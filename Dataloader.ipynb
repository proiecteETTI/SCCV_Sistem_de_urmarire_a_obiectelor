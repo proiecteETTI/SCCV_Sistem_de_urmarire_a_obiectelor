{
 "cells": [
  {
   "cell_type": "code",
   "execution_count": 1,
   "id": "6ac6ef1c-d66d-4b8f-bfda-a15fe1f878ab",
   "metadata": {},
   "outputs": [],
   "source": [
    "import os\n",
    "import time\n",
    "import cv2 as cv\n",
    "from glob import glob\n",
    "from scipy.io import loadmat"
   ]
  },
  {
   "cell_type": "code",
   "execution_count": 2,
   "id": "dc085437-dbdc-4560-acc3-6eba1de6890f",
   "metadata": {},
   "outputs": [],
   "source": [
    "caltechDataDir = './data_and_labels/data'\n",
    "caltechLabelsDir = './data_and_labels/annotations/annotations'\n",
    "imageFormat = 'jpg'\n",
    "genImagesDir_train = './dataset/images/train'\n",
    "genImagesDir_val = './dataset/images/val'\n",
    "genImagesDir_test = './dataset/images/test'\n",
    "genLabelsDir_train = './dataset/labels/train'\n",
    "genLabelsDir_val = './dataset/labels/val'\n",
    "genLabelsDir_test = './dataset/labels/test'\n",
    "frameSize = (640, 480)"
   ]
  },
  {
   "cell_type": "markdown",
   "id": "b607e9bd-1910-488c-9fdc-c29458b1d661",
   "metadata": {},
   "source": [
    "## Data"
   ]
  },
  {
   "cell_type": "code",
   "execution_count": 3,
   "id": "8baa320d-4dc5-4810-986c-f139715b8b07",
   "metadata": {},
   "outputs": [],
   "source": [
    "def saveImage(frame, setName, fileName, counter):\n",
    "    setId = setName[-2:]\n",
    "    if int(setId) < 6:\n",
    "        destFolder = genImagesDir_train\n",
    "    elif int(setId) < 9:\n",
    "        destFolder = genImagesDir_val\n",
    "    else:\n",
    "        destFolder = genImagesDir_test\n",
    "    \n",
    "    try:\n",
    "        cv.imwrite(os.path.join(destFolder, f'{setName}_{fileName}_{counter}.{imageFormat}'), frame)\n",
    "    except cv.error as openCVError:\n",
    "        print(str(openCVError))"
   ]
  },
  {
   "cell_type": "code",
   "execution_count": 4,
   "id": "075090ee-4e20-4a48-9250-23dc8a546275",
   "metadata": {},
   "outputs": [],
   "source": [
    "def imageGenerator():\n",
    "    # Checking the input directory if contains .seq files\n",
    "    seqFiles = sorted(glob(f'{caltechDataDir}/*/*/*/*.seq'))\n",
    "    if not seqFiles:\n",
    "        print(f'{caltechDataDir} contains no \".seq\" files!')\n",
    "        return\n",
    "    \n",
    "    # Creating the output folder if it doesn't exist\n",
    "    #if not os.path.exists(genImagesDir):\n",
    "    #    os.makedirs(genImagesDir)\n",
    "    \n",
    "    # Processing .seq files\n",
    "    for seqFile in seqFiles:\n",
    "        counter = 0\n",
    "\n",
    "        # Grabs the parent directory of .seq file, e.g. set001\n",
    "        setName = os.path.basename(os.path.dirname(seqFile))\n",
    "        \n",
    "        # Grabs the name of .seq file, e.g. V000\n",
    "        fileName = os.path.basename(seqFile).split('.')[0]\n",
    "        \n",
    "        try:\n",
    "            capture = cv.VideoCapture(seqFile)\n",
    "            \n",
    "            while True:\n",
    "                # Read all frames from the sequence file\n",
    "                existed, frame = capture.read()\n",
    "                if not existed:\n",
    "                    break\n",
    "                \n",
    "                # Saving image\n",
    "                saveImage(frame, setName, fileName, counter)\n",
    "                \n",
    "                counter += 1\n",
    "        except Exception as error:\n",
    "            print(str(error))"
   ]
  },
  {
   "cell_type": "code",
   "execution_count": 6,
   "id": "5b4d5e01-bc66-4266-bff7-b8a9dbffcd6c",
   "metadata": {},
   "outputs": [],
   "source": [
    "imageGenerator()"
   ]
  },
  {
   "cell_type": "markdown",
   "id": "ab5dc007-7936-4260-831d-9dc74c7c23fa",
   "metadata": {},
   "source": [
    "## Labels"
   ]
  },
  {
   "cell_type": "code",
   "execution_count": 3,
   "id": "d1f1816f-e453-4378-8606-c3940cf09241",
   "metadata": {},
   "outputs": [],
   "source": [
    "classes = ['person', 'people']  # Classes in Caltech Pedestrian dataset"
   ]
  },
  {
   "cell_type": "code",
   "execution_count": 4,
   "id": "2c7ac013-6872-4deb-bed6-624d5f0ece36",
   "metadata": {},
   "outputs": [],
   "source": [
    "def convertBoxFormat(box):\n",
    "    (left, top, width, height) = box\n",
    "    (imageWidth, imageHeight) = frameSize\n",
    "    drawWidth = 1./imageWidth\n",
    "    drawHeight = 1./imageHeight\n",
    "    x = (left + width / 2.0) * drawWidth\n",
    "    y = (top + height / 2.0) * drawHeight\n",
    "    w = width * drawWidth\n",
    "    h = height * drawHeight\n",
    "    return (x, y, w, h)"
   ]
  },
  {
   "cell_type": "code",
   "execution_count": 5,
   "id": "71e5fabe-c7d1-4e5c-9427-177368f83555",
   "metadata": {},
   "outputs": [],
   "source": [
    "def annotationGenerator():\n",
    "    # Initialization\n",
    "    numberOfTruthBoxes = 0\n",
    "    #datasets = {\n",
    "    #    'train': open(f'{genLabelsDir}/train.txt', 'w'),\n",
    "    #    'val': open(f'{genLabelsDir}/val.txt', 'w'),\n",
    "    #    'test': open(f'{genLabelsDir}/test.txt', 'w')\n",
    "    #}\n",
    "    \n",
    "    # Checking the input directory if contains .vbb files\n",
    "    vbbFiles = sorted(glob(f'{caltechLabelsDir}/*/*.vbb'))\n",
    "    if not vbbFiles:\n",
    "        print(f'{caltechLabelsDir} contains no \".vbb\" files!')\n",
    "        return\n",
    "    \n",
    "    # Processing .vbb files\n",
    "    for vbbFile in vbbFiles:\n",
    "        # Grabs the name of .vbb file, e.g. V000\n",
    "        fileName = os.path.basename(vbbFile).split('.')[0]\n",
    "        \n",
    "        # Grabs the parent directory of .vbb file, e.g., set001\n",
    "        setName = os.path.basename(os.path.dirname(vbbFile))\n",
    "        \n",
    "        setId = setName[-2:]\n",
    "        if int(setId) < 6:\n",
    "            destFolder = genLabelsDir_train\n",
    "        elif int(setId) < 9:\n",
    "            destFolder = genLabelsDir_val\n",
    "        else:\n",
    "            destFolder = genLabelsDir_test\n",
    "        \n",
    "        # Processing .vbb file\n",
    "        try:\n",
    "            vbb = loadmat(vbbFile)\n",
    "            frameLists = vbb['A'][0][0][1][0]\n",
    "            frameLabel = [str(item[0]) for item in vbb['A'][0][0][4][0]]\n",
    "            \n",
    "            # Processing frames\n",
    "            for frameId, frameValue in enumerate(frameLists):\n",
    "                labels = ''\n",
    "                if len(frameValue) > 0:\n",
    "                    # Processing frames with labels\n",
    "                    for pedestrianId, pedestrianPos in zip(frameValue['id'][0], frameValue['pos'][0]):\n",
    "                        pedestrianId = int(pedestrianId[0][0]) - 1\n",
    "                        pedestrianPos = pedestrianPos[0].tolist()\n",
    "                        \n",
    "                        # Class filter and height filter\n",
    "                        if frameLabel[pedestrianId] in classes and pedestrianPos[3] > 30 and pedestrianPos[3] <= 80:\n",
    "                            classIndex = classes.index(frameLabel[pedestrianId])\n",
    "                            yoloBoxFormat = convertBoxFormat(pedestrianPos)\n",
    "                            labels += str(classIndex) + ' ' + ' '.join([str(item) for item in yoloBoxFormat]) + '\\n'\n",
    "                            numberOfTruthBoxes += 1\n",
    "                    \n",
    "                # Writing labels to file\n",
    "                filePath = destFolder + '/' + setName + '_' + fileName + '_' + str(frameId) + '.txt'\n",
    "                labelFile = open(filePath, 'w')\n",
    "                labelFile.write(labels)\n",
    "                labelFile.close()\n",
    "        except Exception as error:\n",
    "            print(str(error))"
   ]
  },
  {
   "cell_type": "code",
   "execution_count": 6,
   "id": "1e682138-4c24-44e4-803d-27aad759ce90",
   "metadata": {},
   "outputs": [],
   "source": [
    "annotationGenerator()"
   ]
  },
  {
   "cell_type": "code",
   "execution_count": null,
   "id": "225fb6a0-91ee-428d-9b52-802f3119258c",
   "metadata": {},
   "outputs": [],
   "source": []
  }
 ],
 "metadata": {
  "kernelspec": {
   "display_name": "Python 3 (ipykernel)",
   "language": "python",
   "name": "python3"
  },
  "language_info": {
   "codemirror_mode": {
    "name": "ipython",
    "version": 3
   },
   "file_extension": ".py",
   "mimetype": "text/x-python",
   "name": "python",
   "nbconvert_exporter": "python",
   "pygments_lexer": "ipython3",
   "version": "3.8.15"
  }
 },
 "nbformat": 4,
 "nbformat_minor": 5
}
